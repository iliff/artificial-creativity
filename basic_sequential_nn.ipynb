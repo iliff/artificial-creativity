{
 "cells": [
  {
   "cell_type": "markdown",
   "metadata": {
    "collapsed": true
   },
   "source": [
    ""
   ]
  },
  {
   "cell_type": "markdown",
   "metadata": {},
   "source": [
    "Before you begin, you will need to install the following packages in python, using pip3. "
   ]
  },
  {
   "cell_type": "code",
   "execution_count": 17,
   "metadata": {},
   "outputs": [],
   "source": [
    "%matplotlib inline\n",
    "\n",
    "import numpy as np\n",
    "import pandas as pd\n",
    "from keras.layers import Dense, Dropout\n",
    "from keras.layers.normalization import BatchNormalization\n",
    "from keras.models import Sequential\n",
    "from keras.utils import to_categorical\n",
    "import matplotlib.pyplot as plt"
   ]
  },
  {
   "cell_type": "markdown",
   "metadata": {},
   "source": [
    "Set a random seed to allow for reproducible results with same configuration. "
   ]
  },
  {
   "cell_type": "code",
   "execution_count": 2,
   "metadata": {},
   "outputs": [],
   "source": [
    "np.random.seed(42)"
   ]
  },
  {
   "cell_type": "markdown",
   "metadata": {},
   "source": [
    "Since we are using supervised learning for this classification task, we will use pandas to load training data from a csv into an input matrix X and a known output vector y. The input matrix is converted into a numpy array to allow for normalization of values."
   ]
  },
  {
   "cell_type": "code",
   "execution_count": 3,
   "metadata": {},
   "outputs": [
    {
     "name": "stdout",
     "output_type": "stream",
     "text": [
      "X_train shape\n"
     ]
    },
    {
     "data": {
      "text/plain": [
       "(60000, 784)"
      ]
     },
     "execution_count": 0,
     "metadata": {},
     "output_type": "execute_result"
    },
    {
     "name": "stdout",
     "output_type": "stream",
     "text": [
      "y_train shape\n"
     ]
    },
    {
     "data": {
      "text/plain": [
       "(60000,)"
      ]
     },
     "execution_count": 0,
     "metadata": {},
     "output_type": "execute_result"
    },
    {
     "name": "stdout",
     "output_type": "stream",
     "text": [
      "X_train sample\n"
     ]
    },
    {
     "data": {
      "text/plain": [
       "array([[  0,   0,   0,   1,   2,   0,   0,   0,   0,   0, 114, 183, 112,\n         55,  23,  72, 102, 165, 160,  28],\n       [  0,   0,   0,   0,   0,   0,   0,   0,   0,   0,   0,   0,  46,\n          0,  21,  68,   0,   0,   0,   0],\n       [  0,   0,   0,   5,   4,   5,   5,   3,   5,   6,   2,   0,   0,\n          0,   0,   0,   0,   0,   2,   3]])"
      ]
     },
     "execution_count": 3,
     "metadata": {},
     "output_type": "execute_result"
    }
   ],
   "source": [
    "train = pd.read_csv('fashionmnist/fashion-mnist_train.csv')\n",
    "y_train, X_train = train.iloc[:, 0], np.array(train.iloc[:, 1:])\n",
    "\n",
    "print('X_train shape')\n",
    "display(X_train.shape)\n",
    "print('y_train shape')\n",
    "display(y_train.shape)\n",
    "print('X_train sample')\n",
    "X_train[3:6, 0:20]"
   ]
  },
  {
   "cell_type": "markdown",
   "metadata": {},
   "source": [
    "We have an input matrix of 60000 samples with 784 pixel values each (28 x 28 flattened into a single row). The y_train vector has the corresponding category value for each sample, which ranges from 0 = T-shirt/top, 1 = Trouser, 2 = Pullover, 3 = Dress,\n",
    "# 4 = Coat, 5 = Sandal, 6 = Shirt, 7 = Sneaker, 8 = Bag, 9 = Ankle boot.\n",
    "\n",
    "The fashion mnist data is already broken up into train and test (validation) datasets, so next, we need to load the validation data just as we did with the train data. The only difference in shape here is that the validation dataset has 10000 samples instead of 60000."
   ]
  },
  {
   "cell_type": "code",
   "execution_count": 4,
   "metadata": {},
   "outputs": [],
   "source": [
    "validation = pd.read_csv('fashionmnist/fashion-mnist_test.csv')\n",
    "y_valid, X_valid = validation.iloc[:, 0], np.array(validation.iloc[:, 1:])"
   ]
  },
  {
   "cell_type": "markdown",
   "metadata": {},
   "source": [
    "Once the data is loaded, for visulaization and calculation, it is useful to normalize our values to between 0 and 1 by taking the average pixel value for each pixel by dividing by the highest possible value, which is 255. In order to do this kind of calculation on each item in the matrix, we need to convert the values in the matrix to a datatype that allows mathematical calculation, such as float32. We do this for both train and validation inputs. "
   ]
  },
  {
   "cell_type": "code",
   "execution_count": 5,
   "metadata": {},
   "outputs": [
    {
     "data": {
      "text/plain": [
       "array([[ 0.        ,  0.        ,  0.        ,  0.00392157,  0.00784314,\n         0.        ,  0.        ,  0.        ,  0.        ,  0.        ,\n         0.44705883,  0.71764708,  0.43921569,  0.21568628,  0.09019608,\n         0.28235295,  0.40000001,  0.64705884,  0.627451  ,  0.10980392],\n       [ 0.        ,  0.        ,  0.        ,  0.        ,  0.        ,\n         0.        ,  0.        ,  0.        ,  0.        ,  0.        ,\n         0.        ,  0.        ,  0.18039216,  0.        ,  0.08235294,\n         0.26666668,  0.        ,  0.        ,  0.        ,  0.        ],\n       [ 0.        ,  0.        ,  0.        ,  0.01960784,  0.01568628,\n         0.01960784,  0.01960784,  0.01176471,  0.01960784,  0.02352941,\n         0.00784314,  0.        ,  0.        ,  0.        ,  0.        ,\n         0.        ,  0.        ,  0.        ,  0.00784314,  0.01176471]], dtype=float32)"
      ]
     },
     "execution_count": 5,
     "metadata": {},
     "output_type": "execute_result"
    }
   ],
   "source": [
    "X_train = X_train.astype('float32')\n",
    "X_train /= 255\n",
    "X_valid = X_valid.astype('float32')\n",
    "X_valid /= 255\n",
    "\n",
    "X_train[3:6, 0:20]"
   ]
  },
  {
   "cell_type": "markdown",
   "metadata": {},
   "source": [
    "Now that we have our inputs in shape, we need to get our outputs ready. So, we will use numpy's to_categorical method to one-hot encode our outputs in y, knowing that we have 10 possible categories of clothing as listed above."
   ]
  },
  {
   "cell_type": "code",
   "execution_count": 8,
   "metadata": {},
   "outputs": [
    {
     "data": {
      "text/plain": [
       "array([[ 0.,  0.,  1., ...,  0.,  0.,  0.],\n       [ 0.,  0.,  0., ...,  0.,  0.,  1.],\n       [ 0.,  0.,  0., ...,  0.,  0.,  0.],\n       ..., \n       [ 0.,  0.,  0., ...,  0.,  1.,  0.],\n       [ 0.,  0.,  0., ...,  0.,  1.,  0.],\n       [ 0.,  0.,  0., ...,  1.,  0.,  0.]])"
      ]
     },
     "execution_count": 8,
     "metadata": {},
     "output_type": "execute_result"
    }
   ],
   "source": [
    "number_output_classes = 10\n",
    "\n",
    "y_train = to_categorical(y_train, num_classes=number_output_classes)\n",
    "y_valid = to_categorical(y_valid, num_classes=number_output_classes)\n",
    "\n",
    "y_train"
   ]
  },
  {
   "cell_type": "markdown",
   "metadata": {},
   "source": []
  },
  {
   "cell_type": "code",
   "execution_count": 10,
   "metadata": {},
   "outputs": [
    {
     "name": "stdout",
     "output_type": "stream",
     "text": [
      "_________________________________________________________________\nLayer (type)                 Output Shape              Param #   \n=================================================================\ndense_1 (Dense)              (None, 128)               100480    \n_________________________________________________________________\nbatch_normalization_1 (Batch (None, 128)               512       \n_________________________________________________________________\ndropout_1 (Dropout)          (None, 128)               0         \n_________________________________________________________________\ndense_2 (Dense)              (None, 40)                5160      \n_________________________________________________________________\ndropout_2 (Dropout)          (None, 40)                0         \n_________________________________________________________________\ndense_3 (Dense)              (None, 10)                410       \n=================================================================\nTotal params: 106,562\nTrainable params: 106,306\nNon-trainable params: 256\n_________________________________________________________________\n"
     ]
    }
   ],
   "source": [
    "model = Sequential()\n",
    "\n",
    "# layer 1: 16 neurons\n",
    "model.add(Dense(128, activation='relu', input_shape=(X_train.shape[1],)))\n",
    "\n",
    "model.add(BatchNormalization())\n",
    "model.add(Dropout(0.2))\n",
    "\n",
    "# add depth\n",
    "model.add(Dense(40, activation='sigmoid'))\n",
    "model.add(Dropout(0.2))\n",
    "\n",
    "# output layer\n",
    "model.add(Dense(10, activation='softmax'))\n",
    "\n",
    "model.summary()"
   ]
  },
  {
   "cell_type": "markdown",
   "metadata": {},
   "source": [
    "A fuller description of the model here...\n",
    "\n",
    "Now we can compile and train (fit) the model."
   ]
  },
  {
   "cell_type": "code",
   "execution_count": 12,
   "metadata": {},
   "outputs": [],
   "source": [
    "model.compile(loss='categorical_crossentropy', optimizer='adam', metrics=['accuracy'])"
   ]
  },
  {
   "cell_type": "markdown",
   "metadata": {},
   "source": [
    "Describe each parameter here and link to other possible options.\n",
    "\n",
    "Now we can train (fit) our model."
   ]
  },
  {
   "cell_type": "code",
   "execution_count": 13,
   "metadata": {},
   "outputs": [],
   "source": [
    "history = model.fit(X_train, y_train, batch_size=128, epochs=10, verbose=0,\n",
    "          validation_data=(X_valid, y_valid))"
   ]
  },
  {
   "cell_type": "markdown",
   "metadata": {},
   "source": [
    "Describe each parameter and maybe a little about tuning...\n",
    "\n",
    "Now let's plot the results."
   ]
  },
  {
   "cell_type": "code",
   "execution_count": 18,
   "metadata": {},
   "outputs": [
    {
     "data": {
      "image/png": "[encoded data removed]",
      "text/plain": [
       "<matplotlib.figure.Figure at 0x128eafda0>"
      ]
     },
     "metadata": {},
     "output_type": "display_data"
    },
    {
     "data": {
      "image/png": "[encoded data removed]",
      "text/plain": [
       "<matplotlib.figure.Figure at 0x11c617860>"
      ]
     },
     "metadata": {},
     "output_type": "display_data"
    }
   ],
   "source": [
    "# summarize history for accuracy\n",
    "plt.plot(history.history['acc'])\n",
    "plt.plot(history.history['val_acc'])\n",
    "plt.title('model accuracy')\n",
    "plt.ylabel('accuracy')\n",
    "plt.xlabel('epoch')\n",
    "plt.legend(['train', 'valid'], loc='upper left')\n",
    "plt.show()\n",
    "# summarize history for loss\n",
    "plt.plot(history.history['loss'])\n",
    "plt.plot(history.history['val_loss'])\n",
    "plt.title('model loss')\n",
    "plt.ylabel('loss')\n",
    "plt.xlabel('epoch')\n",
    "plt.legend(['train', 'valid'], loc='upper left')\n",
    "plt.show()"
   ]
  },
  {
   "cell_type": "markdown",
   "metadata": {},
   "source": []
  }
 ],
 "metadata": {
  "kernelspec": {
   "display_name": "Python 2",
   "language": "python",
   "name": "python2"
  },
  "language_info": {
   "codemirror_mode": {
    "name": "ipython",
    "version": 2
   },
   "file_extension": ".py",
   "mimetype": "text/x-python",
   "name": "python",
   "nbconvert_exporter": "python",
   "pygments_lexer": "ipython2",
   "version": "2.7.6"
  }
 },
 "nbformat": 4,
 "nbformat_minor": 0
}
